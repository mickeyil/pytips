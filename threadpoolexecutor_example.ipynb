{
 "cells": [
  {
   "cell_type": "code",
   "execution_count": 7,
   "metadata": {},
   "outputs": [
    {
     "name": "stdout",
     "output_type": "stream",
     "text": [
      "worked for 0.669 seconds\n",
      "worked for 1.257 seconds\n",
      "worked for 2.901 seconds\n",
      "worked for 3.030 seconds\n",
      "worked for 1.932 seconds\n",
      "worked for 3.596 seconds\n",
      "worked for 3.198 seconds\n",
      "worked for 1.452 seconds\n",
      "worked for 1.744 seconds\n",
      "worked for 2.514 seconds\n",
      "Total work execution time: 5.725\n",
      "[0.6687668529925384, 3.0299116804955544, 3.596219491326747, 2.901055805502248, 1.2570667199827568, 3.1984904222977613, 1.9324997718158037, 1.7437017445573222, 1.4518209075036048, 2.514063549935858]\n"
     ]
    }
   ],
   "source": [
    "# ThreadPoolExecutor example: simple parallelization of tasks using thread pools.\n",
    "import random\n",
    "import sys\n",
    "import time\n",
    "\n",
    "from concurrent import futures\n",
    "\n",
    "# maximum number of workers. Change this parameter to see the effect on\n",
    "# the total execution time as a funtion of available workers.\n",
    "MAX_WORKERS = 5\n",
    "\n",
    "# each work units works (sleeps) this amount of time\n",
    "WORK_UNITS = 10\n",
    "DURATIONS = [random.uniform(0,5) for p in range(WORK_UNITS)]\n",
    "\n",
    "def do_work(duration):\n",
    "    time.sleep(duration)\n",
    "    print('worked for {:.3f} seconds'.format(duration))\n",
    "    sys.stdout.flush()\n",
    "    return duration\n",
    "    \n",
    "workers = min(MAX_WORKERS, len(DURATIONS))\n",
    "\n",
    "t_start = time.time()\n",
    "with futures.ThreadPoolExecutor(workers) as executor:\n",
    "    res = executor.map(do_work, DURATIONS)\n",
    "t_elapsed = time.time() - t_start\n",
    "print('Total work execution time: {:.3f}'.format(t_elapsed))\n",
    "\n",
    "# collect the results. If any of the workers raised an exception, that exception\n",
    "# would be raised here by the implicit next() call\n",
    "print(list(res))"
   ]
  },
  {
   "cell_type": "code",
   "execution_count": null,
   "metadata": {},
   "outputs": [],
   "source": []
  }
 ],
 "metadata": {
  "kernelspec": {
   "display_name": "Python 3",
   "language": "python",
   "name": "python3"
  },
  "language_info": {
   "codemirror_mode": {
    "name": "ipython",
    "version": 3
   },
   "file_extension": ".py",
   "mimetype": "text/x-python",
   "name": "python",
   "nbconvert_exporter": "python",
   "pygments_lexer": "ipython3",
   "version": "3.6.8"
  }
 },
 "nbformat": 4,
 "nbformat_minor": 2
}
