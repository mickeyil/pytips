{
 "cells": [
  {
   "cell_type": "code",
   "execution_count": 8,
   "metadata": {},
   "outputs": [
    {
     "name": "stdout",
     "output_type": "stream",
     "text": [
      "worked for 1.159 seconds\n",
      "worked for 1.296 seconds\n",
      "worked for 1.765 seconds\n",
      "worked for 2.876 seconds\n",
      "worked for 0.049 seconds\n",
      "worked for 2.154 seconds\n",
      "worked for 2.689 seconds\n",
      "worked for 4.916 seconds\n",
      "worked for 4.258 seconds\n",
      "worked for 3.649 seconds\n",
      "Total work execution time: 6.592\n",
      "[2.8757809690693286, 1.2964169790999946, 1.1585226933548065, 4.91568221990912, 1.7649643012055316, 2.154393241468788, 4.258082401269753, 2.6889446019801837, 0.04938353823143726, 3.6490801593825695]\n"
     ]
    }
   ],
   "source": [
    "# ThreadPoolExecutor.map example: concurrent tasks using a thread pool.\n",
    "import random\n",
    "import sys\n",
    "import time\n",
    "\n",
    "from concurrent import futures\n",
    "\n",
    "# maximum number of workers. Change this parameter to see the effect on\n",
    "# the total execution time as a funtion of available workers.\n",
    "MAX_WORKERS = 5\n",
    "\n",
    "# each work units works (sleeps) this amount of time\n",
    "WORK_UNITS = 10\n",
    "DURATIONS = [random.uniform(0,5) for p in range(WORK_UNITS)]\n",
    "\n",
    "def do_work(duration):\n",
    "    time.sleep(duration)\n",
    "    print('worked for {:.3f} seconds'.format(duration))\n",
    "    sys.stdout.flush()\n",
    "    return duration\n",
    "    \n",
    "workers = min(MAX_WORKERS, len(DURATIONS))\n",
    "\n",
    "t_start = time.time()\n",
    "with futures.ThreadPoolExecutor(workers) as executor:\n",
    "    res = executor.map(do_work, DURATIONS)\n",
    "t_elapsed = time.time() - t_start\n",
    "print('Total work execution time: {:.3f}'.format(t_elapsed))\n",
    "\n",
    "# collect the results. If any of the workers raised an exception, that exception\n",
    "# would be raised here by the implicit next() call\n",
    "print(list(res))"
   ]
  },
  {
   "cell_type": "code",
   "execution_count": null,
   "metadata": {},
   "outputs": [],
   "source": []
  }
 ],
 "metadata": {
  "kernelspec": {
   "display_name": "Python 3",
   "language": "python",
   "name": "python3"
  },
  "language_info": {
   "codemirror_mode": {
    "name": "ipython",
    "version": 3
   },
   "file_extension": ".py",
   "mimetype": "text/x-python",
   "name": "python",
   "nbconvert_exporter": "python",
   "pygments_lexer": "ipython3",
   "version": "3.6.8"
  }
 },
 "nbformat": 4,
 "nbformat_minor": 2
}
