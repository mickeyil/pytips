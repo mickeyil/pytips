{
 "cells": [
  {
   "cell_type": "code",
   "execution_count": 4,
   "metadata": {},
   "outputs": [
    {
     "name": "stdout",
     "output_type": "stream",
     "text": [
      "spanned 30 xy locations:\n",
      "[(0, 0), (0, 3), (0, 6), (0, 9), (0, 12), (0, 15), (4, 0), (4, 3), (4, 6), (4, 9), (4, 12), (4, 15), (8, 0), (8, 3), (8, 6), (8, 9), (8, 12), (8, 15), (12, 0), (12, 3), (12, 6), (12, 9), (12, 12), (12, 15), (16, 0), (16, 3), (16, 6), (16, 9), (16, 12), (16, 15)]\n"
     ]
    }
   ],
   "source": [
    "# A nice way to get a list of tuples that span a 2D meshgrid\n",
    "# as a list of tuples.\n",
    "# \n",
    "# matlab code:\n",
    "# >> X=[0:4:16]\n",
    "# >> Y=[0:3:15]\n",
    "# >> [Xmesh, Ymesh] = meshgrid(X,Y)\n",
    "#\n",
    "# We'd like to get the all the combinations of (X,Y) in the meshgrid\n",
    "\n",
    "xy_locations = [(x, y) for x in xrange(0, 16+1, 4)\n",
    "                       for y in xrange(0, 15+1, 3)]\n",
    "\n",
    "# xrange is used here rather than range for efficency - using iterator rathen than\n",
    "# creating actual lists for the separate axes.\n",
    "# note the +1: xrange (and range) are no inclusive. Meaning, for instance,\n",
    "# that range(0,4) returns these 4 elements: [0,1,2,3]\n",
    "\n",
    "\n",
    "print('spanned {} xy locations:'.format(len(xy_locations)))\n",
    "print(xy_locations)"
   ]
  }
 ],
 "metadata": {
  "kernelspec": {
   "display_name": "Python 2",
   "language": "python",
   "name": "python2"
  },
  "language_info": {
   "codemirror_mode": {
    "name": "ipython",
    "version": 2
   },
   "file_extension": ".py",
   "mimetype": "text/x-python",
   "name": "python",
   "nbconvert_exporter": "python",
   "pygments_lexer": "ipython2",
   "version": "2.7.12"
  }
 },
 "nbformat": 4,
 "nbformat_minor": 2
}
