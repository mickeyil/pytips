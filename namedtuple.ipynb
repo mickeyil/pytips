{
 "cells": [
  {
   "cell_type": "code",
   "execution_count": 7,
   "metadata": {},
   "outputs": [
    {
     "name": "stdout",
     "output_type": "stream",
     "text": [
      "roi1 = Rect(x=5, y=10, width=320, height=240)\n",
      "roi2 = Rect(x=5, y=10, width=320, height=240)\n"
     ]
    }
   ],
   "source": [
    "# collections module is required for namedtuple\n",
    "import collections\n",
    "\n",
    "# Define a class that with the type name Rect\n",
    "# The class have the fields: x, y, width height\n",
    "Rect = collections.namedtuple('Rect', ['x', 'y', 'width', 'height'])\n",
    "\n",
    "# Instances can be created like a regular tuple, with location based assignment\n",
    "roi1 = Rect(5, 10, 320, 240)\n",
    "print('roi1 = {}'.format(roi1))\n",
    "\n",
    "# More clearly, instance can be assigned by name\n",
    "roi2 = Rect(x=5, y=10, width=320, height=240)\n",
    "print('roi2 = {}'.format(roi2))\n"
   ]
  }
 ],
 "metadata": {
  "kernelspec": {
   "display_name": "Python 2",
   "language": "python",
   "name": "python2"
  },
  "language_info": {
   "codemirror_mode": {
    "name": "ipython",
    "version": 2
   },
   "file_extension": ".py",
   "mimetype": "text/x-python",
   "name": "python",
   "nbconvert_exporter": "python",
   "pygments_lexer": "ipython2",
   "version": "2.7.12"
  }
 },
 "nbformat": 4,
 "nbformat_minor": 2
}
